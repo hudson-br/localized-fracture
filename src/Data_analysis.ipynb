{
 "cells": [
  {
   "cell_type": "code",
   "execution_count": 30,
   "metadata": {},
   "outputs": [
    {
     "name": "stdout",
     "output_type": "stream",
     "text": [
      "/Users/morpho/TURLIERLAB Dropbox/Hudson Rocha/Postdoc/LSPM/Python/localized-fracture/src/output\n",
      "N=5000_lbda=1.0_lbdaf=0.4_lbdaJ=0.0_rho=4.0.obj\n",
      "Calculating best minimal value for power law fit\n",
      "alpha: 3.0380388976850967 sigma 0.04448424759588744\n",
      "3.0380388976850967\n"
     ]
    },
    {
     "data": {
      "image/png": "[encoded data removed]",
      "text/plain": [
       "<Figure size 432x288 with 1 Axes>"
      ]
     },
     "metadata": {
      "needs_background": "light"
     },
     "output_type": "display_data"
    }
   ],
   "source": [
    "from data_resources import *\n",
    "import os\n",
    "path = '/Users/morpho/TURLIERLAB Dropbox/Hudson Rocha/Postdoc/LSPM/Python/localized-fracture/src/output/'\n",
    "os.chdir(path)\n",
    "cwd = os.getcwd()\n",
    "print(cwd)\n",
    "dirs = os.listdir(cwd)\n",
    "for elem in os.listdir(cwd):\n",
    "    if elem.endswith(\".obj\"):\n",
    "        print(elem)\n",
    "        filename = elem\n",
    "        [alpha, sigma, xmin] = avalanche_distribution_from_obj(filename)\n",
    "        print(\"alpha:\",alpha,\"sigma\",sigma)\n",
    "        plot_avalanche_from_obj(filename)\n",
    "print(alpha)"
   ]
  },
  {
   "cell_type": "code",
   "execution_count": null,
   "metadata": {},
   "outputs": [],
   "source": []
  }
 ],
 "metadata": {
  "interpreter": {
   "hash": "aee8b7b246df8f9039afb4144a1f6fd8d2ca17a180786b69acc140d282b71a49"
  },
  "kernelspec": {
   "display_name": "Python 3.7.7 64-bit",
   "language": "python",
   "name": "python3"
  },
  "language_info": {
   "codemirror_mode": {
    "name": "ipython",
    "version": 3
   },
   "file_extension": ".py",
   "mimetype": "text/x-python",
   "name": "python",
   "nbconvert_exporter": "python",
   "pygments_lexer": "ipython3",
   "version": "3.7.6"
  },
  "orig_nbformat": 4
 },
 "nbformat": 4,
 "nbformat_minor": 2
}
